{
  "nbformat": 4,
  "nbformat_minor": 0,
  "metadata": {
    "colab": {
      "provenance": [],
      "authorship_tag": "ABX9TyOEVISivZwwVkjjqpDFBS2q",
      "include_colab_link": true
    },
    "kernelspec": {
      "name": "python3",
      "display_name": "Python 3"
    },
    "language_info": {
      "name": "python"
    }
  },
  "cells": [
    {
      "cell_type": "markdown",
      "metadata": {
        "id": "view-in-github",
        "colab_type": "text"
      },
      "source": [
        "<a href=\"https://colab.research.google.com/github/bkkkoscar/Introduction-to-Computers/blob/main/0512.ipynb\" target=\"_parent\"><img src=\"https://colab.research.google.com/assets/colab-badge.svg\" alt=\"Open In Colab\"/></a>"
      ]
    },
    {
      "cell_type": "code",
      "execution_count": 2,
      "metadata": {
        "colab": {
          "base_uri": "https://localhost:8080/"
        },
        "id": "KZRwh0teL7vl",
        "outputId": "c7f2df9d-b876-43c3-9c3e-fb742c0df59c"
      },
      "outputs": [
        {
          "output_type": "stream",
          "name": "stdout",
          "text": [
            "請輸入整數:64\n",
            "偶數\n",
            "Bye!!\n"
          ]
        }
      ],
      "source": [
        "num = int(input('請輸入整數:'))\n",
        "if num % 2 == 0:\n",
        "  print('偶數')\n",
        "else:\n",
        "  print('奇數')\n",
        "print('Bye!!')"
      ]
    },
    {
      "cell_type": "code",
      "source": [
        "age = int(input('請輸入您的年齡:'))\n",
        "if age <= 18:\n",
        "  print('未成年人')\n",
        "elif age >= 18 and age <= 65:\n",
        "  print('成年人')\n",
        "else:\n",
        "  print('老年人')"
      ],
      "metadata": {
        "colab": {
          "base_uri": "https://localhost:8080/"
        },
        "id": "6fd1EtpjMifF",
        "outputId": "76897fe4-2135-492e-ca79-231e0654574b"
      },
      "execution_count": 6,
      "outputs": [
        {
          "output_type": "stream",
          "name": "stdout",
          "text": [
            "請輸入您的年齡:66\n",
            "老年人\n"
          ]
        }
      ]
    },
    {
      "cell_type": "code",
      "source": [
        "season = int(input('請輸入月份:'))\n",
        "if season >=1 and season <= 3:\n",
        "  print('春季')\n",
        "elif season >= 4 and season <= 6:\n",
        "  print('夏季')\n",
        "elif season >= 7 and season <= 9:\n",
        "  print('秋季')\n",
        "elif season >= 10 and season <= 12:\n",
        "  print('冬季')\n",
        "else:\n",
        "  print('無效月份')"
      ],
      "metadata": {
        "colab": {
          "base_uri": "https://localhost:8080/"
        },
        "id": "iCcLDKiSNA7t",
        "outputId": "78a35845-e861-41fb-94e2-8f7e4a75d8fe"
      },
      "execution_count": 10,
      "outputs": [
        {
          "output_type": "stream",
          "name": "stdout",
          "text": [
            "請輸入月份:4\n",
            "夏季\n"
          ]
        }
      ]
    }
  ]
}