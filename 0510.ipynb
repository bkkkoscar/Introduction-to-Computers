{
  "nbformat": 4,
  "nbformat_minor": 0,
  "metadata": {
    "colab": {
      "provenance": [],
      "authorship_tag": "ABX9TyOo+FKmEskC4eBFJuF1MvE6",
      "include_colab_link": true
    },
    "kernelspec": {
      "name": "python3",
      "display_name": "Python 3"
    },
    "language_info": {
      "name": "python"
    }
  },
  "cells": [
    {
      "cell_type": "markdown",
      "metadata": {
        "id": "view-in-github",
        "colab_type": "text"
      },
      "source": [
        "<a href=\"https://colab.research.google.com/github/bkkkoscar/Introduction-to-Computers/blob/main/0510.ipynb\" target=\"_parent\"><img src=\"https://colab.research.google.com/assets/colab-badge.svg\" alt=\"Open In Colab\"/></a>"
      ]
    },
    {
      "cell_type": "code",
      "execution_count": 3,
      "metadata": {
        "colab": {
          "base_uri": "https://localhost:8080/"
        },
        "id": "4gsphHJ9vcns",
        "outputId": "0257d44a-9773-4a6f-fcd0-433eaefaed7d"
      },
      "outputs": [
        {
          "output_type": "stream",
          "name": "stdout",
          "text": [
            "請輸入數字999\n",
            "及格\n"
          ]
        }
      ],
      "source": [
        "score = int(input('請輸入數字'))\n",
        "if score >= 60:\n",
        "  print('及格')\n",
        "else:\n",
        "  print('不及格')"
      ]
    },
    {
      "cell_type": "code",
      "source": [
        "password = int(input('請輸入密碼'))\n",
        "if password == 7788:\n",
        "  print('密碼正確 歡迎光臨')"
      ],
      "metadata": {
        "colab": {
          "base_uri": "https://localhost:8080/"
        },
        "id": "GhCVoTY91oWv",
        "outputId": "919a622a-ed73-49f3-9860-80d311832160"
      },
      "execution_count": 11,
      "outputs": [
        {
          "output_type": "stream",
          "name": "stdout",
          "text": [
            "請輸入密碼7788\n",
            "密碼正確 歡迎光臨\n"
          ]
        }
      ]
    },
    {
      "cell_type": "code",
      "source": [
        "password = input('請輸入密碼')\n",
        "if password == '0857':\n",
        "  print('密碼正確 歡迎光臨')\n",
        "else:\n",
        "  print('密碼錯誤')"
      ],
      "metadata": {
        "colab": {
          "base_uri": "https://localhost:8080/"
        },
        "id": "DRcYWQj9yZJd",
        "outputId": "36376552-5795-47e8-9310-10939cafa2bb"
      },
      "execution_count": 12,
      "outputs": [
        {
          "output_type": "stream",
          "name": "stdout",
          "text": [
            "請輸入密碼0856\n",
            "密碼錯誤\n"
          ]
        }
      ]
    },
    {
      "cell_type": "code",
      "source": [
        "rain = input()\n",
        "if (rain==\"Y\"or rain==\"y\"):\n",
        "  print('出門記得帶傘')"
      ],
      "metadata": {
        "colab": {
          "base_uri": "https://localhost:8080/"
        },
        "id": "nQR3gsET136o",
        "outputId": "9e29fad8-52d8-4b26-bf8c-10e4682fb4c3"
      },
      "execution_count": 15,
      "outputs": [
        {
          "output_type": "stream",
          "name": "stdout",
          "text": [
            "Y\n",
            "出門記得帶傘\n"
          ]
        }
      ]
    },
    {
      "cell_type": "code",
      "source": [
        "I = int(input('請輸入一個數'))\n",
        "if I % 2 == 0:\n",
        "  print('偶數')\n",
        "else:\n",
        "  print('奇數') "
      ],
      "metadata": {
        "colab": {
          "base_uri": "https://localhost:8080/"
        },
        "id": "ZysMEKr_139f",
        "outputId": "df31563d-8577-4221-894c-90e203590072"
      },
      "execution_count": 18,
      "outputs": [
        {
          "output_type": "stream",
          "name": "stdout",
          "text": [
            "請輸入一個數5\n",
            "奇數\n"
          ]
        }
      ]
    }
  ]
}