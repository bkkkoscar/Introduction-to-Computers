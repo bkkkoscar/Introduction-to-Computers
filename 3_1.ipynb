{
  "nbformat": 4,
  "nbformat_minor": 0,
  "metadata": {
    "colab": {
      "provenance": [],
      "authorship_tag": "ABX9TyMcGA3glAATlpF58gyA6Wto",
      "include_colab_link": true
    },
    "kernelspec": {
      "name": "python3",
      "display_name": "Python 3"
    },
    "language_info": {
      "name": "python"
    }
  },
  "cells": [
    {
      "cell_type": "markdown",
      "metadata": {
        "id": "view-in-github",
        "colab_type": "text"
      },
      "source": [
        "<a href=\"https://colab.research.google.com/github/bkkkoscar/Introduction-to-Computers/blob/main/3_1.ipynb\" target=\"_parent\"><img src=\"https://colab.research.google.com/assets/colab-badge.svg\" alt=\"Open In Colab\"/></a>"
      ]
    },
    {
      "cell_type": "code",
      "execution_count": null,
      "metadata": {
        "colab": {
          "base_uri": "https://localhost:8080/"
        },
        "id": "KzobYRRyQmOO",
        "outputId": "5e96aa68-69f2-4597-f9b3-8cf78eff1128"
      },
      "outputs": [
        {
          "output_type": "stream",
          "name": "stdout",
          "text": [
            "hello\n"
          ]
        }
      ],
      "source": [
        "print('hello')"
      ]
    },
    {
      "cell_type": "code",
      "source": [
        "a = 1"
      ],
      "metadata": {
        "id": "OqNtj7XUY-Y5"
      },
      "execution_count": 5,
      "outputs": []
    },
    {
      "cell_type": "code",
      "source": [
        "b = 2\n",
        "c = 3"
      ],
      "metadata": {
        "id": "DqDwyf9oZddD"
      },
      "execution_count": 6,
      "outputs": []
    },
    {
      "cell_type": "code",
      "source": [
        "a\n",
        "a, b , c\n",
        "d = e = f = 4\n",
        "a, b, c, d, e, f\n",
        "g = a + b + c + d + e + f \n",
        "g"
      ],
      "metadata": {
        "colab": {
          "base_uri": "https://localhost:8080/"
        },
        "id": "7sK7vVcqZkWa",
        "outputId": "246cfef8-0ba6-4906-9728-294a73ad48ce"
      },
      "execution_count": 12,
      "outputs": [
        {
          "output_type": "execute_result",
          "data": {
            "text/plain": [
              "18"
            ]
          },
          "metadata": {},
          "execution_count": 12
        }
      ]
    },
    {
      "cell_type": "code",
      "source": [
        "print('你好')"
      ],
      "metadata": {
        "colab": {
          "base_uri": "https://localhost:8080/"
        },
        "id": "kSC708n5QzFC",
        "outputId": "c491c5e6-c670-4e54-fb2c-a98145d3e811"
      },
      "execution_count": null,
      "outputs": [
        {
          "output_type": "stream",
          "name": "stdout",
          "text": [
            "你好\n"
          ]
        }
      ]
    },
    {
      "cell_type": "code",
      "source": [
        "print('今天是三月一號')"
      ],
      "metadata": {
        "colab": {
          "base_uri": "https://localhost:8080/"
        },
        "id": "kDUjUmsPRTNN",
        "outputId": "ec0e2fd8-f481-48dd-e508-7c4b8ae5a9f4"
      },
      "execution_count": null,
      "outputs": [
        {
          "output_type": "stream",
          "name": "stdout",
          "text": [
            "今天是三月一號\n"
          ]
        }
      ]
    },
    {
      "cell_type": "code",
      "source": [
        "print('曾威融411550238')"
      ],
      "metadata": {
        "colab": {
          "base_uri": "https://localhost:8080/"
        },
        "id": "ZPJqWzkESAKg",
        "outputId": "a7ea8c2d-dcc9-4bbd-9e3e-48ff46e88e47"
      },
      "execution_count": null,
      "outputs": [
        {
          "output_type": "stream",
          "name": "stdout",
          "text": [
            "曾威融411550238\n"
          ]
        }
      ]
    }
  ]
}