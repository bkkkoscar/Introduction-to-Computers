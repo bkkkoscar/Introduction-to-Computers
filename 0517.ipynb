{
  "nbformat": 4,
  "nbformat_minor": 0,
  "metadata": {
    "colab": {
      "provenance": [],
      "authorship_tag": "ABX9TyOM9GRCTzvjI9Zrn6uv8mzd",
      "include_colab_link": true
    },
    "kernelspec": {
      "name": "python3",
      "display_name": "Python 3"
    },
    "language_info": {
      "name": "python"
    }
  },
  "cells": [
    {
      "cell_type": "markdown",
      "metadata": {
        "id": "view-in-github",
        "colab_type": "text"
      },
      "source": [
        "<a href=\"https://colab.research.google.com/github/bkkkoscar/Introduction-to-Computers/blob/main/0517.ipynb\" target=\"_parent\"><img src=\"https://colab.research.google.com/assets/colab-badge.svg\" alt=\"Open In Colab\"/></a>"
      ]
    },
    {
      "cell_type": "code",
      "execution_count": 3,
      "metadata": {
        "colab": {
          "base_uri": "https://localhost:8080/"
        },
        "id": "J_I8z0VJypbZ",
        "outputId": "2e1318b3-fa88-4003-fec8-fc78c31c3a2e"
      },
      "outputs": [
        {
          "output_type": "stream",
          "name": "stdout",
          "text": [
            "y\n",
            "出門記得帶傘\n"
          ]
        }
      ],
      "source": [
        "rain = input()\n",
        "if (rain==\"Y\"or rain==\"y\"):\n",
        "  print('出門記得帶傘')\n",
        "else:\n",
        "  print('請重新輸入')"
      ]
    },
    {
      "cell_type": "code",
      "source": [
        "score = int(input('請輸入成績:'))\n",
        "if score >= 90:\n",
        "  print('Grade is A')\n",
        "elif score >= 80:\n",
        "  print('Grade is B')\n",
        "elif score >= 70:\n",
        "  print('Grade is C')\n",
        "elif score >= 60:\n",
        "  print('Grade is D')\n",
        "else:\n",
        "  print('Grade is F')\n",
        "\n"
      ],
      "metadata": {
        "colab": {
          "base_uri": "https://localhost:8080/"
        },
        "id": "DdCzIISDzRFV",
        "outputId": "78d15e02-2ed2-4e14-ec33-7c5e02eb5a25"
      },
      "execution_count": 6,
      "outputs": [
        {
          "output_type": "stream",
          "name": "stdout",
          "text": [
            "請輸入成績:54\n",
            "Grade is F\n"
          ]
        }
      ]
    },
    {
      "cell_type": "code",
      "source": [
        "score = int(input(\"score: \"))\n",
        "if score >= 90:\n",
        " print('Grade is: A')\n",
        "elif score >= 80:\n",
        " print('Grade is: B')\n",
        "elif score >= 70:\n",
        " print('Grade is: C')\n",
        "elif score >= 60:\n",
        " print('Grade is: D')\n",
        "else:\n",
        " print('Grade is: F')"
      ],
      "metadata": {
        "colab": {
          "base_uri": "https://localhost:8080/"
        },
        "id": "0AjXU_k01k4C",
        "outputId": "095142c5-95db-489a-f0ec-40c2857792fd"
      },
      "execution_count": 11,
      "outputs": [
        {
          "output_type": "stream",
          "name": "stdout",
          "text": [
            "score: 76\n",
            "Grade is: C\n"
          ]
        }
      ]
    },
    {
      "cell_type": "code",
      "source": [
        "a = float(input('請輸入您的溫度:'))\n",
        "if a >= 37.5:\n",
        "  print('體溫過高')\n",
        "elif a <= 37.4 and a >= 37.0:\n",
        "  print('體溫略高')\n",
        "elif a <= 36.9 and a >= 34.0:\n",
        "  print('體溫正常')\n",
        "elif a <= 34.0:\n",
        "  print('體溫異常，請重新測量')\n"
      ],
      "metadata": {
        "colab": {
          "base_uri": "https://localhost:8080/"
        },
        "id": "GsoQtuzW0L0b",
        "outputId": "80db57f1-28a5-469f-9440-abb5a4bc663d"
      },
      "execution_count": 10,
      "outputs": [
        {
          "output_type": "stream",
          "name": "stdout",
          "text": [
            "請輸入您的溫度:37.5\n",
            "體溫過高\n"
          ]
        }
      ]
    },
    {
      "cell_type": "code",
      "source": [
        "season = int(input('請輸入月份:'))\n",
        "if season >=3 and season <= 5:\n",
        "  print('春季')\n",
        "elif season >= 6 and season <= 8:\n",
        "  print('夏季')\n",
        "elif season >= 9 and season <= 11:\n",
        "  print('秋季')\n",
        "elif season == 12 or season <= 2:\n",
        "  print('冬季')\n",
        "else:\n",
        "  print('月份不在範圍內!')"
      ],
      "metadata": {
        "colab": {
          "base_uri": "https://localhost:8080/"
        },
        "id": "ZojqpgR4zRLH",
        "outputId": "f7d891dc-2ef0-4707-f5d1-a00080443954"
      },
      "execution_count": 27,
      "outputs": [
        {
          "output_type": "stream",
          "name": "stdout",
          "text": [
            "請輸入月份:7\n",
            "夏季\n"
          ]
        }
      ]
    },
    {
      "cell_type": "code",
      "source": [
        "a = float(input('請輸入今年收入淨額:'))\n",
        "if a >= 2000000:\n",
        "  print('付稅金額:',end='')\n",
        "  print(a*0.3,end='元')\n",
        "elif a >= 1000000:\n",
        "  print('付稅金額:',end='')\n",
        "  print(a*0.21,end='元')\n",
        "elif a >= 600000:\n",
        "  print('付稅金額:',end='')\n",
        "  print(a*0.13,end='元')\n",
        "elif a >= 300000:\n",
        "  print('付稅金額:',end='')\n",
        "  print(a*0.06,end='元')\n",
        "\n",
        "\n",
        "\n"
      ],
      "metadata": {
        "colab": {
          "base_uri": "https://localhost:8080/"
        },
        "id": "LCIscprC2daa",
        "outputId": "66f74f2b-7905-415e-f157-6a8f87d8193d"
      },
      "execution_count": 26,
      "outputs": [
        {
          "output_type": "stream",
          "name": "stdout",
          "text": [
            "請輸入您的收入:300000\n",
            "付稅金額:18000.0元"
          ]
        }
      ]
    }
  ]
}